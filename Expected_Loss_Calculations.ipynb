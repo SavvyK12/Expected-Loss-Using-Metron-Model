{
 "cells": [
  {
   "cell_type": "code",
   "execution_count": 2,
   "id": "d180762c-5233-4b4c-a91d-597b828310ad",
   "metadata": {},
   "outputs": [],
   "source": [
    "import requests\n",
    "import pandas as pd\n",
    "import numpy as np\n",
    "from scipy.stats import norm"
   ]
  },
  {
   "cell_type": "code",
   "execution_count": 18,
   "id": "239730cf-eedf-4727-9069-c1802c10b18a",
   "metadata": {},
   "outputs": [],
   "source": [
    "def api_call(ticker):\n",
    "    url = f'https://financialmodelingprep.com/api/v3/balance-sheet-statement/{ticker}?period=annual&apikey=FCazkcdySuLOf9TJiEMOaqykEB4Du8f1'\n",
    "    response = requests.get(url)\n",
    "    data = response.json()\n",
    "    pd.set_option('display.max_columns', None)\n",
    "    df = pd.DataFrame(data) \n",
    "    return df\n",
    "\n",
    "ticker = 'ABC'\n",
    "df = api_call(ticker)"
   ]
  },
  {
   "cell_type": "code",
   "execution_count": 4,
   "id": "1c5edddf-1a9a-4868-a98d-748079f1af64",
   "metadata": {},
   "outputs": [],
   "source": [
    "def required_informations(df):\n",
    "    firm_value = df['totalAssets'][0]\n",
    "    risk_free_rate = 0.03\n",
    "    time = 1\n",
    "    df['assets_log_return'] = np.log(df['totalAssets']/df['totalAssets'].shift(1))\n",
    "    vol= df['assets_log_return'].std()\n",
    "    return firm_value, risk_free_rate, vol, time\n",
    "\n",
    "A, mu, sigma, t = required_informations(df)"
   ]
  },
  {
   "cell_type": "code",
   "execution_count": 5,
   "id": "a65ee06e-71e2-4ca9-a60f-99ff4680095a",
   "metadata": {},
   "outputs": [
    {
     "name": "stdout",
     "output_type": "stream",
     "text": [
      "The exposure at default:- 825000000.0\n"
     ]
    }
   ],
   "source": [
    "def ead(rating,bond,commitment):              \n",
    "    rating_dict = {                            #the UGD lookup is from Internal credit risk model\n",
    "        \"AAA\":0.69,\"AA\":0.73,\"A\":0.71,\n",
    "        \"BBB\":0.65,\"BB\":0.52,\"B\":0.48,\n",
    "        \"CCC\":0.44\n",
    "    }\n",
    "    EAD = bond + rating_dict[rating] * commitment\n",
    "    return EAD\n",
    "\n",
    "EAD = ead(\"BBB\",500000000,500000000)\n",
    "print(f'The exposure at default:- {EAD}')"
   ]
  },
  {
   "cell_type": "code",
   "execution_count": 6,
   "id": "ff70a52c-1103-44b0-ac7e-74f8d3d6321f",
   "metadata": {},
   "outputs": [],
   "source": [
    "def default_point_calculations(df):\n",
    "    long_current_liabilities_max = df['totalNonCurrentLiabilities'].max()\n",
    "    short_liabilities_max = df['totalCurrentLiabilities'].max()\n",
    "    default_point = short_liabilities_max  + long_current_liabilities_max * 0.5\n",
    "    return default_point \n",
    "\n",
    "default_point = default_point_calculations(df)"
   ]
  },
  {
   "cell_type": "code",
   "execution_count": 7,
   "id": "fa541923-3bfe-4b0d-83d5-682cbbe1894c",
   "metadata": {},
   "outputs": [
    {
     "name": "stdout",
     "output_type": "stream",
     "text": [
      "The probability Default is:- 13.850479647036506 %\n"
     ]
    }
   ],
   "source": [
    "def calculate_PD(A,L,sigma,mu,t):\n",
    "    numerator = np.log(A/L) + (mu - 0.5*sigma**2)*(t)\n",
    "    denominator = sigma * np.sqrt(t);\n",
    "    DD = numerator/denominator\n",
    "    np_1 = norm.cdf(DD)\n",
    "    PD = 1 - np_1\n",
    "    return PD * 100\n",
    "\n",
    "PD = calculate_PD(A, default_point, sigma, mu, t)\n",
    "print(f'The probability Default is:- {PD} %')"
   ]
  },
  {
   "cell_type": "code",
   "execution_count": 8,
   "id": "614a312e-2905-412a-a76a-fc20845b4f14",
   "metadata": {},
   "outputs": [
    {
     "name": "stdout",
     "output_type": "stream",
     "text": [
      "The Loss Giving Default is:- 48.754545454545465 %\n"
     ]
    }
   ],
   "source": [
    "avg_LGD_on_bonds = 0.5637\n",
    "std = 0.0104\n",
    "max_for_bonds = 1.1\n",
    "def LGD_calculations(avg, std, max_value):\n",
    "    alpha = (avg/max_value)*((avg*(max_value-avg)/max_value*std**2)-1)\n",
    "    beta  = alpha*((max_value/avg)-1)\n",
    "    mean_recovery = alpha/(alpha + beta)\n",
    "    LGD = 1 - mean_recovery\n",
    "    return LGD\n",
    "\n",
    "LGD = LGD_calculations(avg_LGD_on_bonds, std, max_for_bonds)*100\n",
    "print(f'The Loss Giving Default is:- {LGD} %')"
   ]
  },
  {
   "cell_type": "code",
   "execution_count": 9,
   "id": "7d4087b0-de8a-4985-b1aa-dbb407f64d31",
   "metadata": {},
   "outputs": [
    {
     "name": "stdout",
     "output_type": "stream",
     "text": [
      "The Expected loss is:- $55710091.760292605 \n"
     ]
    }
   ],
   "source": [
    "def exposure_at_default(EAD, PD, LGD):\n",
    "    EL = (EAD * LGD * PD)/1e4\n",
    "    return EL\n",
    "EL = exposure_at_default(EAD, PD, LGD)\n",
    "print(f'The Expected loss is:- ${EL} ')"
   ]
  },
  {
   "cell_type": "code",
   "execution_count": null,
   "id": "4f6fe5b9-e540-4644-819d-fe0549fc3b80",
   "metadata": {},
   "outputs": [],
   "source": []
  }
 ],
 "metadata": {
  "kernelspec": {
   "display_name": "Python 3 (ipykernel)",
   "language": "python",
   "name": "python3"
  },
  "language_info": {
   "codemirror_mode": {
    "name": "ipython",
    "version": 3
   },
   "file_extension": ".py",
   "mimetype": "text/x-python",
   "name": "python",
   "nbconvert_exporter": "python",
   "pygments_lexer": "ipython3",
   "version": "3.11.7"
  }
 },
 "nbformat": 4,
 "nbformat_minor": 5
}
